{
 "cells": [
  {
   "cell_type": "code",
   "execution_count": 1,
   "id": "cf3acc86-e6b2-4a70-b693-242169e639ab",
   "metadata": {},
   "outputs": [],
   "source": [
    "import os, sys\n",
    "parent_dir = os.path.abspath('..')\n",
    "if parent_dir not in sys.path:\n",
    "    sys.path.append(parent_dir)\n"
   ]
  },
  {
   "cell_type": "code",
   "execution_count": 2,
   "id": "8819ccd3-54b2-4707-b5e3-75e5cf637224",
   "metadata": {},
   "outputs": [],
   "source": [
    "import parse_articles as pa"
   ]
  },
  {
   "cell_type": "code",
   "execution_count": 22,
   "id": "bf010287-75ce-4005-99f0-2bb7746f1c2d",
   "metadata": {},
   "outputs": [
    {
     "name": "stdout",
     "output_type": "stream",
     "text": [
      "Fetching article\n",
      "processing sitemap number 0\n",
      "Fetching article\n",
      "fetching headline for article: https://forward.com/yiddish/592925/video-riki-rose-sings-a-popular-hasidic-purim-song-about-king-ahasuerus/\n",
      "Fetching article\n",
      "fetching headline for article: https://forward.com/yiddish/592991/video-an-animated-yiddish-purim-musical-for-kids/\n",
      "Fetching article\n",
      "fetching headline for article: https://forward.com/yiddish/593672/we-jews-love-haman-as-long-as-we-dont-look-into-the-mirror/\n",
      "Fetching article\n",
      "fetching headline for article: https://forward.com/yiddish/595102/in-the-new-issue-of-yiddishland-the-reaction-of-leftist-western-intellectuals-to-oct-7/\n",
      "Fetching article\n",
      "fetching headline for article: https://forward.com/yiddish/591836/asian-descendants-of-hidden-jews-in-portugal-maintain-their-languages/\n",
      "Fetching article\n",
      "fetching headline for article: https://forward.com/yiddish/595558/video-the-history-of-yiddish-in-tel-aviv-in-yiddish/\n",
      "Fetching article\n",
      "fetching headline for article: https://forward.com/yiddish/595489/an-opera-based-on-franz-kafkas-unfinished-novel-america/\n",
      "Fetching article\n",
      "fetching headline for article: https://forward.com/yiddish/596650/registration-is-now-open-for-the-immersive-uk-yiddish-weekend/\n",
      "Fetching article\n",
      "fetching headline for article: https://forward.com/yiddish/597673/video-how-did-yiddish-literature-begin/\n",
      "Fetching article\n",
      "fetching headline for article: https://forward.com/yiddish/599293/we-were-from-two-different-worlds-yet-surprisingly-kindred-spirits/\n",
      "Fetching article\n",
      "fetching headline for article: https://forward.com/yiddish/599881/kratsborsht-an-old-jewish-delicacy-made-of-fish-sperm/\n",
      "Fetching article\n",
      "fetching headline for article: https://forward.com/yiddish/600967/new-lively-literary-tours-of-old-jaffa-tel-avivs-yiddish-history/\n",
      "Fetching article\n",
      "fetching headline for article: https://forward.com/yiddish/599659/an-italian-theater-festival-featuring-plays-in-european-minority-languages/\n",
      "Fetching article\n",
      "fetching headline for article: https://forward.com/yiddish/601789/yiddish-theater-returns-to-london/\n",
      "Fetching article\n",
      "fetching headline for article: https://forward.com/yiddish/602770/pesach-as-a-yiddishist-holiday/\n",
      "Fetching article\n",
      "fetching headline for article: https://forward.com/yiddish/578347/why-a-rebbes-descendent-doesnt-drive-or-use-forks/\n",
      "Fetching article\n",
      "fetching headline for article: https://forward.com/yiddish/602971/masterful-new-edition-of-elye-falkovitshs-acclaimed-work-on-yiddish-grammar/\n",
      "Fetching article\n",
      "fetching headline for article: https://forward.com/yiddish/604306/grandmother-of-a-hostage-in-gaza-pours-her-heart-out-in-yiddish/\n",
      "Fetching article\n",
      "fetching headline for article: https://forward.com/yiddish/603598/audio-my-grandmother-singing-the-passover-hymn-chasal-siddur-pesach/\n",
      "Fetching article\n",
      "fetching headline for article: https://forward.com/yiddish/604561/a-new-initiative-to-share-yiddish-passover-songs-composed-in-melbourne/\n",
      "Fetching article\n",
      "fetching headline for article: https://forward.com/yiddish/604333/video-why-my-book-about-my-own-exodus-from-the-hasidic-community-will-be-in-yiddish/\n",
      "Fetching article\n",
      "fetching headline for article: https://forward.com/yiddish/598471/prizewinning-israeli-writer-describes-his-vision-of-radical-humanism/\n",
      "Fetching article\n",
      "fetching headline for article: https://forward.com/yiddish/604630/the-four-sons-that-live-in-me/\n",
      "Fetching article\n",
      "fetching headline for article: https://forward.com/yiddish/609385/watch-haunting-holocaust-song-they-go-in-dark-rows-performed-by-sarah-gorby/\n",
      "Fetching article\n",
      "fetching headline for article: https://forward.com/yiddish/608416/growing-anti-zionism-forces-journalist-to-rethink-his-leftist-jewish-identity/\n",
      "Fetching article\n",
      "fetching headline for article: https://forward.com/yiddish/609352/poem-about-a-little-girls-response-to-photos-of-concentration-camp-victims/\n",
      "Fetching article\n",
      "fetching headline for article: https://forward.com/yiddish/610504/video-a-yiddish-interview-with-the-grandmother-of-gaza-hostage-omer-wenkert/\n",
      "Fetching article\n",
      "fetching headline for article: https://forward.com/yiddish/610486/poems-about-spring-in-wartime/\n",
      "Fetching article\n",
      "fetching headline for article: https://forward.com/yiddish/611548/a-remarkable-initiative-the-former-yiddish-magazine-sovetish-heymland-is-being-digitized/\n",
      "Fetching article\n",
      "fetching headline for article: https://forward.com/yiddish/612568/on-yom-hazikaron-may-this-memorial-poster-from-kibbutz-beeri-keep-us-from-forgetting/\n",
      "Fetching article\n",
      "fetching headline for article: https://forward.com/yiddish/611980/opera-brings-to-life-the-little-known-story-of-the-great-yiddish-dictionary/\n",
      "Fetching article\n",
      "fetching headline for article: https://forward.com/yiddish/612736/two-volumes-of-the-uncompleted-great-yiddish-dictionary-are-now-online/\n",
      "Fetching article\n",
      "fetching headline for article: https://forward.com/yiddish/613546/marking-108-years-since-the-death-of-sholem-aleichem/\n",
      "Fetching article\n",
      "fetching headline for article: https://forward.com/yiddish/613216/zoom-jews-in-1942-write-why-they-left-the-old-country/\n",
      "Fetching article\n",
      "fetching headline for article: https://forward.com/yiddish/614860/what-was-life-like-in-detroits-old-jewish-quarter/\n",
      "Fetching article\n",
      "fetching headline for article: https://forward.com/yiddish/615388/video-meet-lively-rabbi-mendel-hersh-paneth-creator-of-yiddish-comics-for-kids/\n",
      "Fetching article\n",
      "fetching headline for article: https://forward.com/yiddish/615025/new-book-describes-jewish-culture-in-prewar-poland-from-a-doikayt-perspective/\n",
      "Fetching article\n",
      "fetching headline for article: https://forward.com/yiddish/574084/tidbits-israeli-torah-scroll-writing-project-attracts-secular-jews-too/\n",
      "Fetching article\n",
      "fetching headline for article: https://forward.com/yiddish/469096/the-challenges-of-translating-yiddish-literature-in-the-modern-era/\n",
      "Fetching article\n",
      "fetching headline for article: https://forward.com/yiddish/616735/was-this-irish-revolutionary-inspired-by-yiddish-poet-morris-winchewsky/\n",
      "Fetching article\n",
      "fetching headline for article: https://forward.com/yiddish/617476/time-for-a-dictionary-of-yiddish-dialects/\n",
      "Fetching article\n",
      "fetching headline for article: https://forward.com/yiddish/616822/ei-scharfsteins-poetic-declaration-of-love-for-the-yiddish-language/\n",
      "Fetching article\n",
      "fetching headline for article: https://forward.com/yiddish/618988/how-anarchism-influenced-mainstream-yiddish-writers/\n",
      "Fetching article\n",
      "fetching headline for article: https://forward.com/yiddish/619846/why-is-your-government-ruining-the-state-of-israel/\n",
      "Fetching article\n",
      "fetching headline for article: https://forward.com/yiddish/620275/funding-needed-for-a-new-online-yiddish-russian-dictionary/\n",
      "Fetching article\n",
      "fetching headline for article: https://forward.com/yiddish/620446/a-new-film-captures-the-talent-and-devotion-of-artists-in-yiddishland/\n",
      "Fetching article\n",
      "fetching headline for article: https://forward.com/yiddish/619348/mazel-tov-a-zoom-celebration-of-yiddish-editor-yisroel-rudnitskys-100th-birthday/\n",
      "Fetching article\n",
      "fetching headline for article: https://forward.com/yiddish/620083/popular-online-yiddish-learning-tool-yiddishpop-is-now-complete/\n",
      "Fetching article\n",
      "fetching headline for article: https://forward.com/yiddish/623677/reviving-a-marxist-perspective-in-the-study-of-i-l-peretzs-work/\n",
      "Fetching article\n"
     ]
    }
   ],
   "source": [
    "main_sitemap_url = \"https://forward.com/sitemap_index.xml\"\n",
    "yiddish_headlines = []\n",
    "english_headlines = []\n",
    "\n",
    "sitemap = pa.fetch_website(main_sitemap_url)\n",
    "sitemap_urls = [pa.parse_sitemap(sitemap)[-3]]\n",
    "for i, url in enumerate(sitemap_urls):\n",
    "    print(f\"processing sitemap number {i}\")\n",
    "    sitemap = pa.fetch_website(url)\n",
    "    yiddish_articles = pa.parse_sitemap(sitemap, url_string_to_match='https://forward.com/yiddish/')\n",
    "    if \"write to file\" == \"setting toggled on\":\n",
    "        append_list_to_file(yiddish_articles)\n",
    "    \n",
    "    for article_url in yiddish_articles:    \n",
    "        print(f\"fetching headline for article: {article_url}\")\n",
    "        forwards_article = pa.fetch_website(article_url)\n",
    "        yiddish_headline, english_headline = pa.parse_article(forwards_article)\n",
    "        yiddish_headlines.append(yiddish_headline)\n",
    "        english_headlines.append(english_headline)\n"
   ]
  },
  {
   "cell_type": "code",
   "execution_count": 26,
   "id": "7109d894-91c5-4152-a511-2da814ab0480",
   "metadata": {},
   "outputs": [
    {
     "data": {
      "text/plain": [
       "(['ווידעאָ: ריקי רויז זינגט אַ חסידיש פּורים־ליד וועגן דעם מלך אַחשורוש',\n",
       "  'ווידעאָ: אַן אַנימאַציע פֿון אַ מוזיקאַלישן ייִדישן פּורים־שפּיל פֿאַר קינדער',\n",
       "  'דער עולם האָט ליב המנען — אַבי זיך נישט קוקן אין שפּיגל',\n",
       "  'אין נײַסטן „ייִדישלאַנד“: די רעאַקציע אויפֿן 7טן אָקטאָבער מצד לינק־געשטימטע מערבֿדיקע אינטעלעקטואַלן',\n",
       "  'אַזיאַטישע אָפּשטאַמיקע פֿון די אַנוסים אין פּאָרטוגאַל היטן זײערע שפּראַכן'],\n",
       " ['Video: Riki Rose sings a Hasidic Purim song about King Ahasuerus',\n",
       "  'Video: An animated Yiddish Purim musical for kids',\n",
       "  'We Jews love Haman — as long as we don’t look into the mirror',\n",
       "  'In the new issue of ‘Yiddishland’: The reaction of leftist Western intellectuals to Oct. 7',\n",
       "  'Asian descendants of hidden Jews in Portugal maintain their languages'])"
      ]
     },
     "execution_count": 26,
     "metadata": {},
     "output_type": "execute_result"
    }
   ],
   "source": [
    "yiddish_headlines[:5], english_headlines[:5]"
   ]
  },
  {
   "cell_type": "code",
   "execution_count": null,
   "id": "fddf63df-754a-4094-b276-7a33a8b0d684",
   "metadata": {
    "scrolled": true
   },
   "outputs": [],
   "source": []
  },
  {
   "cell_type": "code",
   "execution_count": 15,
   "id": "ba9f8c52-c43d-471b-85a5-53b2c4115ea5",
   "metadata": {},
   "outputs": [],
   "source": [
    "def append_list_to_file(thing, filename=\"article_urls.txt\"):\n",
    "    with open(filename, 'w') as outfile:\n",
    "        outfile.writelines((str(i)+'\\n' for i in thing))"
   ]
  },
  {
   "cell_type": "code",
   "execution_count": 27,
   "id": "fc604533-52a4-4060-8b7c-4ef4a2fe2374",
   "metadata": {},
   "outputs": [],
   "source": [
    "def log_error(error, filename=\"errors.txt\"):\n",
    "    with open(filename, 'w') as outfile:\n",
    "        outfile.writelines(str(error)+'\\n')"
   ]
  },
  {
   "cell_type": "code",
   "execution_count": null,
   "id": "9387846d-d626-4bcc-9ea5-11ed68b44bda",
   "metadata": {},
   "outputs": [],
   "source": []
  }
 ],
 "metadata": {
  "kernelspec": {
   "display_name": "Python 3 (ipykernel)",
   "language": "python",
   "name": "python3"
  },
  "language_info": {
   "codemirror_mode": {
    "name": "ipython",
    "version": 3
   },
   "file_extension": ".py",
   "mimetype": "text/x-python",
   "name": "python",
   "nbconvert_exporter": "python",
   "pygments_lexer": "ipython3",
   "version": "3.12.1"
  }
 },
 "nbformat": 4,
 "nbformat_minor": 5
}
